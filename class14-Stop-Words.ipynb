{
 "cells": [
  {
   "cell_type": "markdown",
   "metadata": {},
   "source": [
    "___\n",
    "\n",
    "<a href='http://www.pieriandata.com'> <img src='../Pierian_Data_Logo.png' /></a>\n",
    "___"
   ]
  },
  {
   "cell_type": "markdown",
   "metadata": {},
   "source": [
    "# Stop Words\n",
    "Words like \"a\" and \"the\" appear so frequently that they don't require tagging as thoroughly as nouns, verbs and modifiers. We call these *stop words*, and they can be filtered from the text to be processed. spaCy holds a built-in list of some 305 English stop words."
   ]
  },
  {
   "cell_type": "code",
   "execution_count": 3,
   "metadata": {},
   "outputs": [],
   "source": [
    "# Perform standard imports:\n",
    "import spacy\n",
    "nlp = spacy.load('en_core_web_sm')"
   ]
  },
  {
   "cell_type": "code",
   "execution_count": 4,
   "metadata": {},
   "outputs": [
    {
     "name": "stdout",
     "output_type": "stream",
     "text": [
      "{\"'ve\", 'first', 'hereupon', 'somewhere', 'out', 'show', 'here', 'herself', 'whose', 'becoming', 'regarding', 'further', 'seems', 'serious', 'amongst', 'about', 'thereby', 'see', 'throughout', 'thereafter', 'get', 'n‘t', 'whereupon', 'using', 'us', 'very', 'put', 'until', 'part', 'never', 'himself', 'much', 'nevertheless', 'keep', 'too', 'you', 'already', 'on', 'say', 'seeming', 'many', 'along', 'anyone', 'someone', 'once', 'doing', 'this', 'either', 'were', 'these', 'sometime', 'per', 'ourselves', 'has', \"'ll\", 'besides', 'quite', 'whom', 'latterly', 'are', 'without', 'above', 'if', 'six', 'next', 'upon', 'rather', 'behind', 'neither', 'three', 'ca', 'third', 'just', 'the', 'else', 'even', 'his', 'and', 'four', 'become', 'all', 'also', 'she', 'will', 'another', 'but', 'last', 'though', 'have', 'becomes', 'however', 'over', 'her', 'few', 'to', 'former', 'be', 'whenever', 'often', 'back', 'might', 'than', 'bottom', 'mostly', 'together', 'indeed', '’m', 'because', 'afterwards', 'moreover', \"n't\", 'from', 'call', 'same', 'then', 'most', 'or', 'what', 'name', 'that', '‘re', '’s', 'an', 're', 'nor', 'mine', 'whatever', 'ten', 'did', 'there', 'herein', 'go', \"'d\", 'while', 'below', 'any', '’d', 'toward', 'somehow', 'among', \"'re\", 'five', 'itself', 'full', 'by', 'thus', 'myself', 'beside', 'being', 'whoever', 'could', 'am', 'your', 'them', 'seem', 'always', 'again', 'ours', 'well', 'between', 'those', 'beyond', 'therefore', 'perhaps', 'more', 'made', 'hundred', 'anywhere', 'used', 'everyone', 'enough', 'namely', 'anything', 'n’t', 'various', 'who', 'off', 'twelve', 'move', 'less', 'wherein', '’ll', 'hereafter', 'hers', '’re', 'therein', 'must', 'no', 'anyhow', 'via', \"'m\", 'would', 'formerly', 'up', 'its', 'should', 'nobody', 'noone', 'done', 'is', 'with', '‘m', 'several', 'within', 'anyway', 'eight', 'whereas', 'own', 'it', 'amount', 'why', 'top', 'nowhere', 'wherever', 'make', 'been', 'due', 'yet', 'really', 'down', 'in', '‘ll', 'twenty', 'whereby', 'forty', 'cannot', 'can', 'which', 'only', 'front', 'into', 'thence', 'i', '‘ve', 'both', 'some', 'each', 'almost', 'whether', 'every', 'seemed', '‘s', 'others', 'became', 'meanwhile', 'fifteen', 'before', 'so', 'other', 'across', 'through', \"'s\", 'of', 'nothing', 'for', 'themselves', 'ever', 'where', 'onto', 'towards', 'since', 'something', 'nine', 'although', 'under', 'whither', 'during', 'was', 'side', 'everywhere', 'how', 'beforehand', 'fifty', 'otherwise', 'hence', 'thru', 'give', 'unless', '‘d', 'sometimes', 'please', 'against', 'empty', 'whereafter', 'my', 'our', 'around', 'when', 'whence', 'not', 'as', 'everything', 'had', 'now', 'except', '’ve', 'do', 'hereby', 'him', 'elsewhere', 'at', 'alone', 'none', 'they', 'thereupon', 'yourselves', 'whole', 'may', 'he', 'a', 'yours', 'their', 'does', 'two', 'eleven', 'me', 'sixty', 'least', 'one', 'latter', 'such', 'after', 'yourself', 'we', 'still', 'take'}\n"
     ]
    }
   ],
   "source": [
    "# Print the set of spaCy's default stop words (remember that sets are unordered):\n",
    "print(nlp.Defaults.stop_words)"
   ]
  },
  {
   "cell_type": "code",
   "execution_count": 5,
   "metadata": {},
   "outputs": [
    {
     "data": {
      "text/plain": [
       "326"
      ]
     },
     "execution_count": 5,
     "metadata": {},
     "output_type": "execute_result"
    }
   ],
   "source": [
    "len(nlp.Defaults.stop_words)"
   ]
  },
  {
   "cell_type": "markdown",
   "metadata": {},
   "source": [
    "## To see if a word is a stop word"
   ]
  },
  {
   "cell_type": "code",
   "execution_count": 6,
   "metadata": {},
   "outputs": [
    {
     "data": {
      "text/plain": [
       "True"
      ]
     },
     "execution_count": 6,
     "metadata": {},
     "output_type": "execute_result"
    }
   ],
   "source": [
    "nlp.vocab['myself'].is_stop #불용어인지 확인하기"
   ]
  },
  {
   "cell_type": "code",
   "execution_count": 7,
   "metadata": {},
   "outputs": [
    {
     "data": {
      "text/plain": [
       "False"
      ]
     },
     "execution_count": 7,
     "metadata": {},
     "output_type": "execute_result"
    }
   ],
   "source": [
    "nlp.vocab['mystery'].is_stop"
   ]
  },
  {
   "cell_type": "markdown",
   "metadata": {},
   "source": [
    "## To add a stop word\n",
    "There may be times when you wish to add a stop word to the default set. Perhaps you decide that `'btw'` (common shorthand for \"by the way\") should be considered a stop word."
   ]
  },
  {
   "cell_type": "code",
   "execution_count": 8,
   "metadata": {},
   "outputs": [],
   "source": [
    "# Add the word to the set of stop words. Use lowercase!\n",
    "nlp.Defaults.stop_words.add('btw') #불용어로 처리하길 원하는 단어 추가하기\n",
    "\n",
    "# Set the stop_word tag on the lexeme\n",
    "nlp.vocab['btw'].is_stop = True"
   ]
  },
  {
   "cell_type": "code",
   "execution_count": 9,
   "metadata": {},
   "outputs": [
    {
     "data": {
      "text/plain": [
       "327"
      ]
     },
     "execution_count": 9,
     "metadata": {},
     "output_type": "execute_result"
    }
   ],
   "source": [
    "len(nlp.Defaults.stop_words)"
   ]
  },
  {
   "cell_type": "code",
   "execution_count": 10,
   "metadata": {},
   "outputs": [
    {
     "data": {
      "text/plain": [
       "True"
      ]
     },
     "execution_count": 10,
     "metadata": {},
     "output_type": "execute_result"
    }
   ],
   "source": [
    "nlp.vocab['btw'].is_stop"
   ]
  },
  {
   "cell_type": "markdown",
   "metadata": {},
   "source": [
    "<font color=green>When adding stop words, always use lowercase. Lexemes are converted to lowercase before being added to **vocab**.</font>"
   ]
  },
  {
   "cell_type": "markdown",
   "metadata": {},
   "source": [
    "## To remove a stop word\n",
    "Alternatively, you may decide that `'beyond'` should not be considered a stop word."
   ]
  },
  {
   "cell_type": "code",
   "execution_count": 11,
   "metadata": {},
   "outputs": [],
   "source": [
    "# Remove the word from the set of stop words\n",
    "nlp.Defaults.stop_words.remove('beyond')\n",
    "\n",
    "# Remove the stop_word tag from the lexeme\n",
    "nlp.vocab['beyond'].is_stop = False"
   ]
  },
  {
   "cell_type": "code",
   "execution_count": 12,
   "metadata": {},
   "outputs": [
    {
     "data": {
      "text/plain": [
       "326"
      ]
     },
     "execution_count": 12,
     "metadata": {},
     "output_type": "execute_result"
    }
   ],
   "source": [
    "len(nlp.Defaults.stop_words)"
   ]
  },
  {
   "cell_type": "code",
   "execution_count": 13,
   "metadata": {},
   "outputs": [
    {
     "data": {
      "text/plain": [
       "False"
      ]
     },
     "execution_count": 13,
     "metadata": {},
     "output_type": "execute_result"
    }
   ],
   "source": [
    "nlp.vocab['beyond'].is_stop"
   ]
  },
  {
   "cell_type": "markdown",
   "metadata": {},
   "source": [
    "Great! Now you should be able to access spaCy's default set of stop words, and add or remove stop words as needed.\n",
    "## Next up: Vocabulary and Matching"
   ]
  }
 ],
 "metadata": {
  "kernelspec": {
   "display_name": "Python 3 (ipykernel)",
   "language": "python",
   "name": "python3"
  },
  "language_info": {
   "codemirror_mode": {
    "name": "ipython",
    "version": 3
   },
   "file_extension": ".py",
   "mimetype": "text/x-python",
   "name": "python",
   "nbconvert_exporter": "python",
   "pygments_lexer": "ipython3",
   "version": "3.7.16"
  }
 },
 "nbformat": 4,
 "nbformat_minor": 2
}
